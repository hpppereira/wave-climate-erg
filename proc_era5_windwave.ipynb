{
 "cells": [
  {
   "cell_type": "markdown",
   "metadata": {},
   "source": [
    "# Processamento dos dados do ERA5"
   ]
  },
  {
   "cell_type": "code",
   "execution_count": 1,
   "metadata": {},
   "outputs": [],
   "source": [
    "import os\n",
    "import numpy as np\n",
    "import pandas as pd\n",
    "import xarray as xr\n",
    "import matplotlib.pyplot as plt\n",
    "from scipy.interpolate import interp2d"
   ]
  },
  {
   "cell_type": "code",
   "execution_count": 2,
   "metadata": {},
   "outputs": [],
   "source": [
    "def uv2id(u, v):\n",
    "    \"\"\"\n",
    "    Conversao de u e v para intensidade e direcao\n",
    "    \"\"\"\n",
    "    i = np.sqrt(u ** 2 + v ** 2)\n",
    "    d = (np.rad2deg(np.arctan2(u, v))) % 360.\n",
    "    return i, d"
   ]
  },
  {
   "cell_type": "code",
   "execution_count": 3,
   "metadata": {},
   "outputs": [],
   "source": [
    "def read_era5_param(pathname, filename, datei, datef):\n",
    "    \"\"\"\n",
    "    Leitura dos parâmetros do ERA5\n",
    "    \"\"\"\n",
    "    ds1 = xr.open_dataset(pathname + filename)    \n",
    "    ds = ds1.sel(longitude=-41.590557, latitude=-23.810278, method='nearest')\n",
    "    ds = ds.sel(time=slice(datei, datef))\n",
    "    df = ds.to_dataframe()\n",
    "    df['ws'], df['wd'] = uv2id(df.u10, df.v10)\n",
    "    return df"
   ]
  },
  {
   "cell_type": "code",
   "execution_count": 4,
   "metadata": {},
   "outputs": [],
   "source": [
    "def read_era5_spec(pathname, filename, datei, datef):\n",
    "    \"\"\"\n",
    "    Once decoded, the units of 2D wave spectra are m2 s radian-1\n",
    "    \"\"\"\n",
    "    da = xr.open_dataarray(pathname + filename)\n",
    "    da = da.sel(longitude=-41.5902, latitude=-23.8106, method='nearest')    \n",
    "    da = da.sel(time=slice(datei, datef))    \n",
    "    da = da.assign_coords(direction=np.arange(7.5, 352.5 + 15, 15))\n",
    "    da = da.assign_coords(frequency=np.full(30, 0.03453) * (1.1 ** np.arange(0, 30)))\n",
    "    da = 10 ** da\n",
    "    da = da.fillna(0)\n",
    "\n",
    "    # vetor de frequencia\n",
    "    freq = pd.DataFrame(da.frequency.values)\n",
    "    return da, freq"
   ]
  },
  {
   "cell_type": "code",
   "execution_count": 5,
   "metadata": {},
   "outputs": [],
   "source": [
    "def create_era5_spec1d(da):\n",
    "    \"\"\"\n",
    "    \"\"\"\n",
    "    # integra o espectro 2D em direcao para obter o espectro 1D\n",
    "    a = [da.data[i,:,:].sum(axis=1) for i in range(da.data.shape[0])]\n",
    "\n",
    "    # cria dataframe com o espectro 1D\n",
    "    spec1d = pd.DataFrame(a, index=da.time.data)\n",
    "    spec1d.index.name = 'date'\n",
    "    return spec1d"
   ]
  },
  {
   "cell_type": "code",
   "execution_count": 6,
   "metadata": {},
   "outputs": [],
   "source": [
    "def calc_era5_tp(spec1d):\n",
    "    \"\"\"\n",
    "    \"\"\"\n",
    "    era5_tp = []\n",
    "    for i in range(len(spec1d)):\n",
    "        s = spec1d.iloc[i,:]\n",
    "        era5_tp.append(1/freq.values[np.where(s == s.max())[0]][0])\n",
    "    return np.array(era5_tp)"
   ]
  },
  {
   "cell_type": "code",
   "execution_count": 7,
   "metadata": {},
   "outputs": [],
   "source": [
    "def plot_polar_spec(s2, radii, thetas, datet):\n",
    "    \"\"\"\n",
    "    \"\"\"\n",
    "    fig = plt.figure(figsize=(11,11))\n",
    "\n",
    "    ## Color-scale\n",
    "    contour_levels = np.arange(0.00,s2.max(),0.1) # Manually set colorbar min/max values\n",
    "\n",
    "    ax = plt.subplot(111, polar=True)\n",
    "    ax.set_theta_direction(-1)\n",
    "    ax.set_theta_zero_location(\"N\")\n",
    "    # ylabels = ([20,10,6.7,5,4])\n",
    "    # ax.set_yticklabels(ylabels)\n",
    "\n",
    "    colorax = ax.contour(thetas, radii, s2, contour_levels)\n",
    "\n",
    "\n",
    "    ## Set titles and colorbar\n",
    "    plt.suptitle('Polar Spectrum - ERA5 - ' + datet, fontsize=22, y=0.95, x=0.45)\n",
    "    # title(startdate, fontsize=16, y=1.11)\n",
    "\n",
    "    cbar = fig.colorbar(colorax)\n",
    "    cbar.set_label('Energy Density (m*m/Hz/deg)', rotation=270, fontsize=16)\n",
    "    cbar.ax.get_yaxis().labelpad = 30\n",
    "\n",
    "    degrange = range(0,360,30)\n",
    "    lines, labels = plt.thetagrids(degrange, labels=None)\n",
    "    return fig"
   ]
  },
  {
   "cell_type": "code",
   "execution_count": 8,
   "metadata": {},
   "outputs": [],
   "source": [
    "    datei = '2015-03-05 13:00:00'\n",
    "    datef = '2015-04-07 06:00:00'\n",
    "\n",
    "    path_data = os.environ['HOME'] + '/gdrive/coppe/doutorado/data/'\n",
    "    path_out = os.environ['HOME'] + '/gdrive/coppe/doutorado/output/'\n",
    "\n",
    "    # leitura dos dados\n",
    "    param = read_era5_param(path_data, 'ERA5_windwave_param_CF01.nc', datei, datef)\n",
    "    spec2, freq = read_era5_spec(path_data, 'ERA5_sfc_wspec_CF01.nc', datei, datef)\n",
    "\n",
    "    # calculo do espectro 1D do ERA5\n",
    "    spec1 = create_era5_spec1d(spec2)\n",
    "\n",
    "    # calcula periodo de pico do ER5\n",
    "    era5_tp = calc_era5_tp(spec1)\n",
    "\n",
    "    # coloca a variavel de tp no parametro do ERA5\n",
    "    param['tp'] = era5_tp\n",
    "\n",
    "    param.index.name = 'date'\n",
    "\n",
    "    # salva dados do ERA5\n",
    "    param.to_csv(path_out + 'era5_windwave_param.csv')\n",
    "    freq.to_csv(path_out + 'era5_wave_freq.csv')\n",
    "    spec1.to_csv(path_out + 'era5_wave_spec1.csv')\n",
    "    spec2.to_netcdf(path=path_out + 'era5_wave_spec2.nc')"
   ]
  },
  {
   "cell_type": "markdown",
   "metadata": {},
   "source": [
    "## Plotagem polar do espectro 2D"
   ]
  },
  {
   "cell_type": "code",
   "execution_count": 9,
   "metadata": {},
   "outputs": [],
   "source": [
    "# f = freq.values[:,0]\n",
    "# d = np.deg2rad(spec2.direction.values)\n",
    "# dd = np.concatenate(([0],d,[2*np.pi]))\n",
    "# for i in range(len(spec2.time)):\n",
    "#     s2 = spec2.values[i,:,:]\n",
    "#     datet = str(spec2.time.values[i])[:-16]\n",
    "#     ff = interp2d(d, f, s2, kind='cubic')\n",
    "#     s22 = ff(dd, f)\n",
    "#     s22[np.where(s22 < 0)] = 0\n",
    "#     fig = plot_polar_spec(s2=s22, radii=f, thetas=dd, datet=datet)\n",
    "#     fig.savefig(os.environ['HOME'] + '/Documents/doutorado/figs/spec2_polar_era5_{}.png'.format(\n",
    "#         datet), bbox_inches='tight')\n",
    "#     plt.close('all')\n",
    "#     plt.show()"
   ]
  }
 ],
 "metadata": {
  "kernelspec": {
   "display_name": "Python 3",
   "language": "python",
   "name": "python3"
  },
  "language_info": {
   "codemirror_mode": {
    "name": "ipython",
    "version": 3
   },
   "file_extension": ".py",
   "mimetype": "text/x-python",
   "name": "python",
   "nbconvert_exporter": "python",
   "pygments_lexer": "ipython3",
   "version": "3.7.3"
  }
 },
 "nbformat": 4,
 "nbformat_minor": 2
}
